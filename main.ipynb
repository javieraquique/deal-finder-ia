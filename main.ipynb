{
 "cells": [
  {
   "cell_type": "markdown",
   "metadata": {},
   "source": [
    "# IMPORTS"
   ]
  },
  {
   "cell_type": "code",
   "execution_count": 163,
   "metadata": {},
   "outputs": [],
   "source": [
    "import requests as re\n",
    "\n",
    "from bs4 import BeautifulSoup\n",
    "\n",
    "import pandas as pd\n"
   ]
  },
  {
   "cell_type": "markdown",
   "metadata": {},
   "source": [
    "# ENVIROMENT VARIABLES"
   ]
  },
  {
   "cell_type": "code",
   "execution_count": 164,
   "metadata": {},
   "outputs": [],
   "source": [
    "# Input data\n",
    "game_title = 'warhammer'\n",
    "platform = 'Windows'\n",
    "currency = 'USD'"
   ]
  },
  {
   "cell_type": "code",
   "execution_count": 165,
   "metadata": {},
   "outputs": [],
   "source": [
    "# Declaring platform dictionary\n",
    "platform_dict_steam = {\n",
    "    'Windows': 'win',\n",
    "    'MacOS': 'mac',\n",
    "    'Linux': 'linux',\n",
    "}"
   ]
  },
  {
   "cell_type": "code",
   "execution_count": 166,
   "metadata": {},
   "outputs": [],
   "source": [
    "platform_dict_gog = {\n",
    "    'Windows': 'windows',\n",
    "    'MacOS': 'mac',\n",
    "    'Linux': 'linux',\n",
    "}"
   ]
  },
  {
   "cell_type": "code",
   "execution_count": 167,
   "metadata": {},
   "outputs": [],
   "source": [
    "country_dict_gog = {\n",
    "    'USD': 'US',\n",
    "    'EUR': 'ES'\n",
    "}"
   ]
  },
  {
   "cell_type": "code",
   "execution_count": 168,
   "metadata": {},
   "outputs": [],
   "source": [
    "platform_dict_cdkeys = {\n",
    "    'Windows': 'Steam',\n",
    "    'Xbox Series X/S': 'Xbox'\n",
    "}"
   ]
  },
  {
   "cell_type": "code",
   "execution_count": 169,
   "metadata": {},
   "outputs": [],
   "source": [
    "# Instant Gamin platfor ditioanry\n",
    "platform_dict_instant_gaming = {\n",
    "    'Windows': '1',\n",
    "    'MacOS': '2',\n",
    "    'Linux': '3',\n",
    "    'Switch': '4',\n",
    "    'Playstation 4': '5',\n",
    "    'Playstation 5': '6',\n",
    "    'Xbox One': '7',\n",
    "    'Xbox Series X/S': '8',\n",
    "    'GeForce Now': '9',\n",
    "}"
   ]
  },
  {
   "cell_type": "code",
   "execution_count": 170,
   "metadata": {},
   "outputs": [],
   "source": [
    "# Declaring currency dictionary\n",
    "currency_dict_steam = {\n",
    "    'USD': 'us',\n",
    "    'EUR': 'es'\n",
    "}"
   ]
  },
  {
   "cell_type": "code",
   "execution_count": 171,
   "metadata": {},
   "outputs": [],
   "source": [
    "currency_dict_epic_games = {\n",
    "    'USD': 'US',\n",
    "    'EUR': 'ES'\n",
    "}"
   ]
  },
  {
   "cell_type": "markdown",
   "metadata": {},
   "source": [
    "# BUILDING DATA FRAMES"
   ]
  },
  {
   "cell_type": "markdown",
   "metadata": {},
   "source": [
    "## STEAM"
   ]
  },
  {
   "cell_type": "code",
   "execution_count": 172,
   "metadata": {},
   "outputs": [],
   "source": [
    "# Transforming platform and currency to steam format\n",
    "cleared_platform = platform_dict_steam[platform]\n",
    "cleared_currency = currency_dict_steam[currency]"
   ]
  },
  {
   "cell_type": "code",
   "execution_count": 173,
   "metadata": {},
   "outputs": [],
   "source": [
    "# Building steam's url\n",
    "steam_url = f'https://store.steampowered.com/search/?&term={game_title}&os={cleared_platform}&cc={cleared_currency}'\n",
    "# 'https://store.steampowered.com/search/?term=monster+hunter&os=win&supportedlang=english&ndl=1'"
   ]
  },
  {
   "cell_type": "code",
   "execution_count": 174,
   "metadata": {},
   "outputs": [],
   "source": [
    "# Getting steam's page\n",
    "steam_object = re.get(steam_url)"
   ]
  },
  {
   "cell_type": "code",
   "execution_count": 175,
   "metadata": {},
   "outputs": [
    {
     "data": {
      "text/plain": [
       "200"
      ]
     },
     "execution_count": 175,
     "metadata": {},
     "output_type": "execute_result"
    }
   ],
   "source": [
    "# Chcecking if the page was successfully downloaded\n",
    "steam_object.status_code"
   ]
  },
  {
   "cell_type": "code",
   "execution_count": 176,
   "metadata": {},
   "outputs": [],
   "source": [
    "# Parsing the page\n",
    "soup = BeautifulSoup(steam_object.content, 'html.parser')"
   ]
  },
  {
   "cell_type": "code",
   "execution_count": 177,
   "metadata": {},
   "outputs": [],
   "source": [
    "# Get the titles list\n",
    "titles = []\n",
    "for x in soup.find_all('span', class_='title'):\n",
    "    titles.append(x.text)"
   ]
  },
  {
   "cell_type": "code",
   "execution_count": 178,
   "metadata": {},
   "outputs": [],
   "source": [
    "# Search for the 'Uninitialized' title and remove it\n",
    "uninitialized = []\n",
    "for i in range(0, len(titles) - 1):\n",
    "    if titles[i] == 'Uninitialized':\n",
    "        uninitialized.append(i)\n",
    "        del titles[i]"
   ]
  },
  {
   "cell_type": "code",
   "execution_count": 179,
   "metadata": {},
   "outputs": [],
   "source": [
    "# Get the prices list\n",
    "prices = []\n",
    "for x in soup.find_all('div', class_='col search_price_discount_combined responsive_secondrow'):\n",
    "    try:\n",
    "        prices.append(str(x).split('discount_final_price\">')[1].split(\"</div>\")[0].replace('$', '').replace('€', ''))\n",
    "    except:\n",
    "        prices.append('')"
   ]
  },
  {
   "cell_type": "code",
   "execution_count": 180,
   "metadata": {},
   "outputs": [],
   "source": [
    "# Get the links list\n",
    "links = []\n",
    "for x in soup.find_all('a', class_='search_result_row ds_collapse_flag'):\n",
    "    links.append(x.get('href'))\n"
   ]
  },
  {
   "cell_type": "code",
   "execution_count": 181,
   "metadata": {},
   "outputs": [],
   "source": [
    "for link in links:\n",
    "    if links.index(link) in uninitialized:\n",
    "        links.remove(link)"
   ]
  },
  {
   "cell_type": "code",
   "execution_count": 182,
   "metadata": {},
   "outputs": [],
   "source": [
    "#Get images\n",
    "images = []\n",
    "for x in soup.find_all('div', class_='col search_capsule'):\n",
    "    images.append(str(x).split('src=\"')[1].split('\"')[0])"
   ]
  },
  {
   "cell_type": "code",
   "execution_count": 183,
   "metadata": {},
   "outputs": [],
   "source": [
    "for image in images:\n",
    "    if images.index(image) in uninitialized:\n",
    "        images.remove(image)"
   ]
  },
  {
   "cell_type": "code",
   "execution_count": 184,
   "metadata": {},
   "outputs": [],
   "source": [
    "data = {\n",
    "    'title': titles,\n",
    "    'price': prices,\n",
    "    'link': links,\n",
    "    'image': images\n",
    "}"
   ]
  },
  {
   "cell_type": "code",
   "execution_count": 185,
   "metadata": {},
   "outputs": [
    {
     "name": "stdout",
     "output_type": "stream",
     "text": [
      "(50, 50, 50, 50)\n"
     ]
    }
   ],
   "source": [
    "print(f'{len(titles), len(prices), len(links), len(images)}')"
   ]
  },
  {
   "cell_type": "code",
   "execution_count": 186,
   "metadata": {},
   "outputs": [],
   "source": [
    "df_steam  = pd.DataFrame(data)"
   ]
  },
  {
   "cell_type": "code",
   "execution_count": 187,
   "metadata": {},
   "outputs": [],
   "source": [
    "df_steam['vendor'] = 'Steam'"
   ]
  },
  {
   "cell_type": "code",
   "execution_count": 188,
   "metadata": {},
   "outputs": [
    {
     "data": {
      "text/html": [
       "<div>\n",
       "<style scoped>\n",
       "    .dataframe tbody tr th:only-of-type {\n",
       "        vertical-align: middle;\n",
       "    }\n",
       "\n",
       "    .dataframe tbody tr th {\n",
       "        vertical-align: top;\n",
       "    }\n",
       "\n",
       "    .dataframe thead th {\n",
       "        text-align: right;\n",
       "    }\n",
       "</style>\n",
       "<table border=\"1\" class=\"dataframe\">\n",
       "  <thead>\n",
       "    <tr style=\"text-align: right;\">\n",
       "      <th></th>\n",
       "      <th>title</th>\n",
       "      <th>price</th>\n",
       "      <th>link</th>\n",
       "      <th>image</th>\n",
       "      <th>vendor</th>\n",
       "    </tr>\n",
       "  </thead>\n",
       "  <tbody>\n",
       "    <tr>\n",
       "      <th>0</th>\n",
       "      <td>Warhammer 40,000: Darktide</td>\n",
       "      <td>19.99</td>\n",
       "      <td>https://store.steampowered.com/app/1361210/War...</td>\n",
       "      <td>https://shared.cloudflare.steamstatic.com/stor...</td>\n",
       "      <td>Steam</td>\n",
       "    </tr>\n",
       "    <tr>\n",
       "      <th>1</th>\n",
       "      <td>Total War: WARHAMMER III</td>\n",
       "      <td>59.99</td>\n",
       "      <td>https://store.steampowered.com/app/1142710/Tot...</td>\n",
       "      <td>https://shared.cloudflare.steamstatic.com/stor...</td>\n",
       "      <td>Steam</td>\n",
       "    </tr>\n",
       "    <tr>\n",
       "      <th>2</th>\n",
       "      <td>Warhammer 40,000: Space Marine 2</td>\n",
       "      <td>59.99</td>\n",
       "      <td>https://store.steampowered.com/app/2183900/War...</td>\n",
       "      <td>https://shared.cloudflare.steamstatic.com/stor...</td>\n",
       "      <td>Steam</td>\n",
       "    </tr>\n",
       "    <tr>\n",
       "      <th>3</th>\n",
       "      <td>Warhammer 40,000: Rogue Trader</td>\n",
       "      <td>49.99</td>\n",
       "      <td>https://store.steampowered.com/app/2186680/War...</td>\n",
       "      <td>https://shared.cloudflare.steamstatic.com/stor...</td>\n",
       "      <td>Steam</td>\n",
       "    </tr>\n",
       "    <tr>\n",
       "      <th>4</th>\n",
       "      <td>Total War: WARHAMMER II</td>\n",
       "      <td>59.99</td>\n",
       "      <td>https://store.steampowered.com/app/594570/Tota...</td>\n",
       "      <td>https://shared.cloudflare.steamstatic.com/stor...</td>\n",
       "      <td>Steam</td>\n",
       "    </tr>\n",
       "  </tbody>\n",
       "</table>\n",
       "</div>"
      ],
      "text/plain": [
       "                              title  price  \\\n",
       "0        Warhammer 40,000: Darktide  19.99   \n",
       "1          Total War: WARHAMMER III  59.99   \n",
       "2  Warhammer 40,000: Space Marine 2  59.99   \n",
       "3    Warhammer 40,000: Rogue Trader  49.99   \n",
       "4           Total War: WARHAMMER II  59.99   \n",
       "\n",
       "                                                link  \\\n",
       "0  https://store.steampowered.com/app/1361210/War...   \n",
       "1  https://store.steampowered.com/app/1142710/Tot...   \n",
       "2  https://store.steampowered.com/app/2183900/War...   \n",
       "3  https://store.steampowered.com/app/2186680/War...   \n",
       "4  https://store.steampowered.com/app/594570/Tota...   \n",
       "\n",
       "                                               image vendor  \n",
       "0  https://shared.cloudflare.steamstatic.com/stor...  Steam  \n",
       "1  https://shared.cloudflare.steamstatic.com/stor...  Steam  \n",
       "2  https://shared.cloudflare.steamstatic.com/stor...  Steam  \n",
       "3  https://shared.cloudflare.steamstatic.com/stor...  Steam  \n",
       "4  https://shared.cloudflare.steamstatic.com/stor...  Steam  "
      ]
     },
     "execution_count": 188,
     "metadata": {},
     "output_type": "execute_result"
    }
   ],
   "source": [
    "df_steam.head()"
   ]
  },
  {
   "cell_type": "markdown",
   "metadata": {},
   "source": [
    "## GOG"
   ]
  },
  {
   "cell_type": "code",
   "execution_count": 189,
   "metadata": {},
   "outputs": [],
   "source": [
    "gog_url = f'https://catalog.gog.com/v1/catalog?countryCode={country_dict_gog[currency]}'\n",
    "gog_params = {\n",
    "    'limit': '48',\n",
    "    'query': game_title,\n",
    "    'system': platform_dict_gog[platform],\n",
    "    'currencyCode': currency \n",
    "}\n"
   ]
  },
  {
   "cell_type": "code",
   "execution_count": 190,
   "metadata": {},
   "outputs": [
    {
     "data": {
      "text/plain": [
       "{'limit': '48',\n",
       " 'query': 'warhammer',\n",
       " 'system': 'windows',\n",
       " 'currencyCode': 'USD'}"
      ]
     },
     "execution_count": 190,
     "metadata": {},
     "output_type": "execute_result"
    }
   ],
   "source": [
    "gog_params"
   ]
  },
  {
   "cell_type": "code",
   "execution_count": 191,
   "metadata": {},
   "outputs": [],
   "source": [
    "gog_object = re.get(url=gog_url, params=gog_params)"
   ]
  },
  {
   "cell_type": "code",
   "execution_count": 192,
   "metadata": {},
   "outputs": [
    {
     "data": {
      "text/plain": [
       "200"
      ]
     },
     "execution_count": 192,
     "metadata": {},
     "output_type": "execute_result"
    }
   ],
   "source": [
    "gog_object.status_code"
   ]
  },
  {
   "cell_type": "code",
   "execution_count": 193,
   "metadata": {},
   "outputs": [],
   "source": [
    "# Get titles, prices, links and images\n",
    "titles = []\n",
    "prices = []\n",
    "links =  []\n",
    "images = []\n",
    "for product in gog_object.json()['products']:\n",
    "    titles.append(product['title']) \n",
    "    prices.append(product['price']['final'])\n",
    "    links.append(product['storeLink'])\n",
    "    images.append(product['coverHorizontal'])\n"
   ]
  },
  {
   "cell_type": "code",
   "execution_count": 194,
   "metadata": {},
   "outputs": [
    {
     "data": {
      "text/plain": [
       "['$0.89',\n",
       " '$2.49',\n",
       " '$1.49',\n",
       " '$8.99',\n",
       " '$3.99',\n",
       " '$14.94',\n",
       " '$5.24',\n",
       " '$8.99',\n",
       " '$2.49',\n",
       " '$12.74',\n",
       " '$11.24',\n",
       " '$5.94',\n",
       " '$8.99',\n",
       " '$5.94',\n",
       " '$9.74',\n",
       " '$2.99',\n",
       " '$8.99',\n",
       " '$2.49',\n",
       " '$8.99',\n",
       " '$2.99',\n",
       " '$8.99',\n",
       " '$3.49',\n",
       " '$8.99',\n",
       " '$3.99',\n",
       " '$1.49',\n",
       " '$2.69',\n",
       " '$2.49',\n",
       " '$13.49',\n",
       " '$17.99',\n",
       " '$3.89',\n",
       " '$11.99',\n",
       " '$49.99',\n",
       " '$14.99',\n",
       " '$29.99',\n",
       " '$4.99',\n",
       " '$64.98',\n",
       " '$99.96',\n",
       " '$3.49',\n",
       " '$10.49',\n",
       " '$13.19',\n",
       " '$10.49',\n",
       " '$9.99',\n",
       " '$8.99',\n",
       " '$3.49',\n",
       " '$1.39',\n",
       " '$1.39',\n",
       " '$23.99',\n",
       " '$19.99']"
      ]
     },
     "execution_count": 194,
     "metadata": {},
     "output_type": "execute_result"
    }
   ],
   "source": [
    "prices"
   ]
  },
  {
   "cell_type": "code",
   "execution_count": 195,
   "metadata": {},
   "outputs": [],
   "source": [
    "data  = {\n",
    "    'title': titles,\n",
    "    'price': prices,\n",
    "    'link': links,\n",
    "    'image': images\n",
    "}"
   ]
  },
  {
   "cell_type": "code",
   "execution_count": 196,
   "metadata": {},
   "outputs": [],
   "source": [
    "df_gog = pd.DataFrame(data)"
   ]
  },
  {
   "cell_type": "code",
   "execution_count": 197,
   "metadata": {},
   "outputs": [],
   "source": [
    "df_gog['vendor'] = 'GOG'"
   ]
  },
  {
   "cell_type": "code",
   "execution_count": 198,
   "metadata": {},
   "outputs": [
    {
     "data": {
      "text/html": [
       "<div>\n",
       "<style scoped>\n",
       "    .dataframe tbody tr th:only-of-type {\n",
       "        vertical-align: middle;\n",
       "    }\n",
       "\n",
       "    .dataframe tbody tr th {\n",
       "        vertical-align: top;\n",
       "    }\n",
       "\n",
       "    .dataframe thead th {\n",
       "        text-align: right;\n",
       "    }\n",
       "</style>\n",
       "<table border=\"1\" class=\"dataframe\">\n",
       "  <thead>\n",
       "    <tr style=\"text-align: right;\">\n",
       "      <th></th>\n",
       "      <th>title</th>\n",
       "      <th>price</th>\n",
       "      <th>link</th>\n",
       "      <th>image</th>\n",
       "      <th>vendor</th>\n",
       "    </tr>\n",
       "  </thead>\n",
       "  <tbody>\n",
       "    <tr>\n",
       "      <th>0</th>\n",
       "      <td>Warhammer 40,000: Fire Warrior</td>\n",
       "      <td>$0.89</td>\n",
       "      <td>https://www.gog.com/en/game/warhammer_40000_fi...</td>\n",
       "      <td>https://images.gog-statics.com/aee5c75ab5ade63...</td>\n",
       "      <td>GOG</td>\n",
       "    </tr>\n",
       "    <tr>\n",
       "      <th>1</th>\n",
       "      <td>Warhammer: Mark of Chaos - Gold Edition</td>\n",
       "      <td>$2.49</td>\n",
       "      <td>https://www.gog.com/en/game/warhammer_mark_of_...</td>\n",
       "      <td>https://images.gog-statics.com/0059c74092f695a...</td>\n",
       "      <td>GOG</td>\n",
       "    </tr>\n",
       "    <tr>\n",
       "      <th>2</th>\n",
       "      <td>Warhammer: Shadow of the Horned Rat</td>\n",
       "      <td>$1.49</td>\n",
       "      <td>https://www.gog.com/en/game/warhammer_shadow_o...</td>\n",
       "      <td>https://images.gog-statics.com/1618a978f7a8844...</td>\n",
       "      <td>GOG</td>\n",
       "    </tr>\n",
       "    <tr>\n",
       "      <th>3</th>\n",
       "      <td>Warhammer 40,000: Gladius - Ultima Founding</td>\n",
       "      <td>$8.99</td>\n",
       "      <td>https://www.gog.com/en/game/warhammer_40000_gl...</td>\n",
       "      <td>https://images.gog-statics.com/75f7aa9d069ebde...</td>\n",
       "      <td>GOG</td>\n",
       "    </tr>\n",
       "    <tr>\n",
       "      <th>4</th>\n",
       "      <td>Warhammer: Chaosbane Slayer Edition</td>\n",
       "      <td>$3.99</td>\n",
       "      <td>https://www.gog.com/en/game/warhammer_chaosban...</td>\n",
       "      <td>https://images.gog-statics.com/674c50f72e5aef2...</td>\n",
       "      <td>GOG</td>\n",
       "    </tr>\n",
       "  </tbody>\n",
       "</table>\n",
       "</div>"
      ],
      "text/plain": [
       "                                         title  price  \\\n",
       "0               Warhammer 40,000: Fire Warrior  $0.89   \n",
       "1      Warhammer: Mark of Chaos - Gold Edition  $2.49   \n",
       "2          Warhammer: Shadow of the Horned Rat  $1.49   \n",
       "3  Warhammer 40,000: Gladius - Ultima Founding  $8.99   \n",
       "4          Warhammer: Chaosbane Slayer Edition  $3.99   \n",
       "\n",
       "                                                link  \\\n",
       "0  https://www.gog.com/en/game/warhammer_40000_fi...   \n",
       "1  https://www.gog.com/en/game/warhammer_mark_of_...   \n",
       "2  https://www.gog.com/en/game/warhammer_shadow_o...   \n",
       "3  https://www.gog.com/en/game/warhammer_40000_gl...   \n",
       "4  https://www.gog.com/en/game/warhammer_chaosban...   \n",
       "\n",
       "                                               image vendor  \n",
       "0  https://images.gog-statics.com/aee5c75ab5ade63...    GOG  \n",
       "1  https://images.gog-statics.com/0059c74092f695a...    GOG  \n",
       "2  https://images.gog-statics.com/1618a978f7a8844...    GOG  \n",
       "3  https://images.gog-statics.com/75f7aa9d069ebde...    GOG  \n",
       "4  https://images.gog-statics.com/674c50f72e5aef2...    GOG  "
      ]
     },
     "execution_count": 198,
     "metadata": {},
     "output_type": "execute_result"
    }
   ],
   "source": [
    "df_gog.head()"
   ]
  },
  {
   "cell_type": "markdown",
   "metadata": {},
   "source": [
    "## CDKEYS"
   ]
  },
  {
   "cell_type": "code",
   "execution_count": 199,
   "metadata": {},
   "outputs": [],
   "source": [
    "# Run the API in postman"
   ]
  },
  {
   "cell_type": "code",
   "execution_count": 200,
   "metadata": {},
   "outputs": [],
   "source": [
    "cdkeys_url = 'https://muvyib7tey-dsn.algolia.net/1/indexes/*/queries?x-algolia-agent=Algolia%20for%20JavaScript%20(4.13.1)%3B%20Browser%3B%20instantsearch.js%20(4.41.0)%3B%20Magento2%20integration%20(3.10.5)%3B%20JS%20Helper%20(3.8.2'"
   ]
  },
  {
   "cell_type": "code",
   "execution_count": 201,
   "metadata": {},
   "outputs": [],
   "source": [
    "cdkeys_form_data = {\n",
    "    \"requests\": [\n",
    "        {\n",
    "            \"indexName\": \"magento2_default_products\",\n",
    "            \"params\": f\"highlightPreTag=__ais-highlight__&highlightPostTag=__%2Fais-highlight__&page=0&ruleContexts=%5B%22magento_filters%22%5D&hitsPerPage=24&clickAnalytics=true&query={game_title}&maxValuesPerFacet=10&facets=%5B%22restricted_countries.es_es%22%2C%22platforms.es_es%22%2C%22region.es_es%22%2C%22language.es_es%22%2C%22genres.es_es%22%2C%22price.EUR.default%22%5D&tagFilters=&facetFilters=%5B%22restricted_countries.es_es%3A-ES%22%2C%5B%22platforms.es_es%3ASteam%22%5D%5D&numericFilters=%5B%22visibility_search.default%3D1%22%2C%5B%22region_id.default%3D39%22%2C%22region_id.default%3D38%22%2C%22region_id.default%3D394%22%2C%22region_id.default%3D479%22%2C%22region_id.default%3D3382%22%2C%22region_id.default%3D3505%22%5D%5D\"\n",
    "        }\n",
    "    ]\n",
    "}"
   ]
  },
  {
   "cell_type": "code",
   "execution_count": 202,
   "metadata": {},
   "outputs": [],
   "source": [
    "cdkeys_headers = {\n",
    "    'Accept-Language':'es-ES;q=0.8,es;q=0.7',\n",
    "    'Content-Type':'application/x-www-form-urlencoded',\n",
    "    'Content-Length':'1472',\n",
    "    'Host':'muvyib7tey-dsn.algolia.net',\n",
    "    'User-Agent':'Mozilla/5.0 (Macintosh; Intel Mac OS X 10_15_7) AppleWebKit/537.36 (KHTML, like Gecko) Chrome/131.0.0.0 Safari/537.36',\n",
    "    'X-Algolia-Api-Key':'ODNjY2VjZjExZGE2NTg3ZDkyMGQ4MjljYzYwM2U0NmRjYWI4MDgwNTQ0NjgzNmE2ZGQyY2ZmMDlkMzAyYTI4NXRhZ0ZpbHRlcnM9',\n",
    "    'X-Algolia-Application-Id':'MUVYIB7TEY'\n",
    "}"
   ]
  },
  {
   "cell_type": "code",
   "execution_count": 203,
   "metadata": {},
   "outputs": [],
   "source": [
    "cdkeys_object = re.post(url=cdkeys_url, json=cdkeys_form_data, headers=cdkeys_headers)"
   ]
  },
  {
   "cell_type": "code",
   "execution_count": 204,
   "metadata": {},
   "outputs": [],
   "source": [
    "# Get titles, prices, links and images\n",
    "titles = []\n",
    "prices = []\n",
    "links =  []\n",
    "images = []\n",
    "for product in cdkeys_object.json()['results'][0]['hits']:\n",
    "    titles.append(product['name']['default']) \n",
    "    prices.append(product['price'][currency]['default'])\n",
    "    links.append(product['url']['default'])\n",
    "    images.append(product['thumbnail_url']['default'])\n"
   ]
  },
  {
   "cell_type": "code",
   "execution_count": 205,
   "metadata": {},
   "outputs": [],
   "source": [
    "data  = {\n",
    "    'title': titles,\n",
    "    'price': prices,\n",
    "    'link': links,\n",
    "    'image': images\n",
    "}"
   ]
  },
  {
   "cell_type": "code",
   "execution_count": 206,
   "metadata": {},
   "outputs": [],
   "source": [
    "df_cdkeys = pd.DataFrame(data)"
   ]
  },
  {
   "cell_type": "code",
   "execution_count": 207,
   "metadata": {},
   "outputs": [],
   "source": [
    "df_cdkeys['vendor'] = 'CDKeys'"
   ]
  },
  {
   "cell_type": "code",
   "execution_count": 208,
   "metadata": {},
   "outputs": [
    {
     "data": {
      "text/html": [
       "<div>\n",
       "<style scoped>\n",
       "    .dataframe tbody tr th:only-of-type {\n",
       "        vertical-align: middle;\n",
       "    }\n",
       "\n",
       "    .dataframe tbody tr th {\n",
       "        vertical-align: top;\n",
       "    }\n",
       "\n",
       "    .dataframe thead th {\n",
       "        text-align: right;\n",
       "    }\n",
       "</style>\n",
       "<table border=\"1\" class=\"dataframe\">\n",
       "  <thead>\n",
       "    <tr style=\"text-align: right;\">\n",
       "      <th></th>\n",
       "      <th>title</th>\n",
       "      <th>price</th>\n",
       "      <th>link</th>\n",
       "      <th>image</th>\n",
       "      <th>vendor</th>\n",
       "    </tr>\n",
       "  </thead>\n",
       "  <tbody>\n",
       "    <tr>\n",
       "      <th>0</th>\n",
       "      <td>Warhammer 40,000: Space Marine 2 PC</td>\n",
       "      <td>38.69</td>\n",
       "      <td>https://www.cdkeys.com/warhammer-40-000-space-...</td>\n",
       "      <td>https://cdn.cdkeys.com/140x140/media/catalog/p...</td>\n",
       "      <td>CDKeys</td>\n",
       "    </tr>\n",
       "    <tr>\n",
       "      <th>1</th>\n",
       "      <td>Total War: WARHAMMER III PC (WW)</td>\n",
       "      <td>23.69</td>\n",
       "      <td>https://www.cdkeys.com/total-war-warhammer-iii...</td>\n",
       "      <td>https://cdn.cdkeys.com/140x140/media/catalog/p...</td>\n",
       "      <td>CDKeys</td>\n",
       "    </tr>\n",
       "    <tr>\n",
       "      <th>2</th>\n",
       "      <td>Total War: WARHAMMER Trilogy PC (WW)</td>\n",
       "      <td>27.49</td>\n",
       "      <td>https://www.cdkeys.com/total-war-warhammer-tri...</td>\n",
       "      <td>https://cdn.cdkeys.com/140x140/media/catalog/p...</td>\n",
       "      <td>CDKeys</td>\n",
       "    </tr>\n",
       "    <tr>\n",
       "      <th>3</th>\n",
       "      <td>Warhammer 40,000: Darktide PC</td>\n",
       "      <td>12.49</td>\n",
       "      <td>https://www.cdkeys.com/warhammer-40-000-darkti...</td>\n",
       "      <td>https://cdn.cdkeys.com/140x140/media/catalog/p...</td>\n",
       "      <td>CDKeys</td>\n",
       "    </tr>\n",
       "    <tr>\n",
       "      <th>4</th>\n",
       "      <td>Warhammer 40,000: Rogue Trader PC</td>\n",
       "      <td>15.39</td>\n",
       "      <td>https://www.cdkeys.com/warhammer-40-000-rogue-...</td>\n",
       "      <td>https://cdn.cdkeys.com/140x140/media/catalog/p...</td>\n",
       "      <td>CDKeys</td>\n",
       "    </tr>\n",
       "  </tbody>\n",
       "</table>\n",
       "</div>"
      ],
      "text/plain": [
       "                                  title  price  \\\n",
       "0   Warhammer 40,000: Space Marine 2 PC  38.69   \n",
       "1      Total War: WARHAMMER III PC (WW)  23.69   \n",
       "2  Total War: WARHAMMER Trilogy PC (WW)  27.49   \n",
       "3         Warhammer 40,000: Darktide PC  12.49   \n",
       "4     Warhammer 40,000: Rogue Trader PC  15.39   \n",
       "\n",
       "                                                link  \\\n",
       "0  https://www.cdkeys.com/warhammer-40-000-space-...   \n",
       "1  https://www.cdkeys.com/total-war-warhammer-iii...   \n",
       "2  https://www.cdkeys.com/total-war-warhammer-tri...   \n",
       "3  https://www.cdkeys.com/warhammer-40-000-darkti...   \n",
       "4  https://www.cdkeys.com/warhammer-40-000-rogue-...   \n",
       "\n",
       "                                               image  vendor  \n",
       "0  https://cdn.cdkeys.com/140x140/media/catalog/p...  CDKeys  \n",
       "1  https://cdn.cdkeys.com/140x140/media/catalog/p...  CDKeys  \n",
       "2  https://cdn.cdkeys.com/140x140/media/catalog/p...  CDKeys  \n",
       "3  https://cdn.cdkeys.com/140x140/media/catalog/p...  CDKeys  \n",
       "4  https://cdn.cdkeys.com/140x140/media/catalog/p...  CDKeys  "
      ]
     },
     "execution_count": 208,
     "metadata": {},
     "output_type": "execute_result"
    }
   ],
   "source": [
    "df_cdkeys.head()"
   ]
  },
  {
   "cell_type": "markdown",
   "metadata": {},
   "source": [
    "## INSTANT GAMING"
   ]
  },
  {
   "cell_type": "code",
   "execution_count": 209,
   "metadata": {},
   "outputs": [],
   "source": [
    "url = f'https://www.instant-gaming.com/es/busquedas/?platform%5B%5D={platform_dict_instant_gaming[platform]}&query={game_title}&currency={currency}'\n",
    "headers = {\n",
    "    'User-Agent': 'Mozilla/5.0 (Windows NT 10.0; Win64; x64) AppleWebKit/537.36 (KHTML, like Gecko) Chrome/112.0.0.0 Safari/537.36'\n",
    "}\n",
    "\n",
    "instant_gaming_object = re.get(url, headers=headers)"
   ]
  },
  {
   "cell_type": "code",
   "execution_count": 210,
   "metadata": {},
   "outputs": [
    {
     "data": {
      "text/plain": [
       "'https://www.instant-gaming.com/es/busquedas/?platform%5B%5D=1&query=warhammer&currency=USD'"
      ]
     },
     "execution_count": 210,
     "metadata": {},
     "output_type": "execute_result"
    }
   ],
   "source": [
    "url"
   ]
  },
  {
   "cell_type": "code",
   "execution_count": 211,
   "metadata": {},
   "outputs": [
    {
     "data": {
      "text/plain": [
       "200"
      ]
     },
     "execution_count": 211,
     "metadata": {},
     "output_type": "execute_result"
    }
   ],
   "source": [
    "instant_gaming_object.status_code"
   ]
  },
  {
   "cell_type": "code",
   "execution_count": 212,
   "metadata": {},
   "outputs": [],
   "source": [
    "soup = BeautifulSoup(instant_gaming_object.content, 'html.parser')"
   ]
  },
  {
   "cell_type": "code",
   "execution_count": 213,
   "metadata": {},
   "outputs": [],
   "source": [
    "# Get the titles list\n",
    "titles = []\n",
    "prices = []\n",
    "images = []\n",
    "links = []\n",
    "for x in soup.find_all('div', class_='item force-badge'):\n",
    "    titles.append(x.find('span', class_='title').text)\n",
    "    try:\n",
    "        prices.append(x.find('div', class_='price').text)\n",
    "    except:\n",
    "        prices.append('')\n",
    "    images.append(str(x.find('img', class_='picture')).strip().split('src=\"')[1].split('\"')[0])\n",
    "    links.append(x.find('a').get('href'))"
   ]
  },
  {
   "cell_type": "code",
   "execution_count": 214,
   "metadata": {},
   "outputs": [],
   "source": [
    "data  = {\n",
    "    'title': titles,\n",
    "    'price': prices,\n",
    "    'link': links,\n",
    "    'image': images\n",
    "}"
   ]
  },
  {
   "cell_type": "code",
   "execution_count": 215,
   "metadata": {},
   "outputs": [],
   "source": [
    "df_instant_gaming = pd.DataFrame(data)"
   ]
  },
  {
   "cell_type": "code",
   "execution_count": 216,
   "metadata": {},
   "outputs": [],
   "source": [
    "df_instant_gaming['vendor'] = 'Instant-Gaming'"
   ]
  },
  {
   "cell_type": "code",
   "execution_count": 217,
   "metadata": {},
   "outputs": [
    {
     "data": {
      "text/html": [
       "<div>\n",
       "<style scoped>\n",
       "    .dataframe tbody tr th:only-of-type {\n",
       "        vertical-align: middle;\n",
       "    }\n",
       "\n",
       "    .dataframe tbody tr th {\n",
       "        vertical-align: top;\n",
       "    }\n",
       "\n",
       "    .dataframe thead th {\n",
       "        text-align: right;\n",
       "    }\n",
       "</style>\n",
       "<table border=\"1\" class=\"dataframe\">\n",
       "  <thead>\n",
       "    <tr style=\"text-align: right;\">\n",
       "      <th></th>\n",
       "      <th>title</th>\n",
       "      <th>price</th>\n",
       "      <th>link</th>\n",
       "      <th>image</th>\n",
       "      <th>vendor</th>\n",
       "    </tr>\n",
       "  </thead>\n",
       "  <tbody>\n",
       "    <tr>\n",
       "      <th>0</th>\n",
       "      <td>Warhammer 40,000: Mechanicus II</td>\n",
       "      <td></td>\n",
       "      <td>https://www.instant-gaming.com/es/16897-compra...</td>\n",
       "      <td>https://gaming-cdn.com/images/products/16897/3...</td>\n",
       "      <td>Instant-Gaming</td>\n",
       "    </tr>\n",
       "    <tr>\n",
       "      <th>1</th>\n",
       "      <td>Warhammer 40,000: Space Marine 2</td>\n",
       "      <td>$39.36</td>\n",
       "      <td>https://www.instant-gaming.com/es/10140-compra...</td>\n",
       "      <td>https://gaming-cdn.com/images/products/10140/3...</td>\n",
       "      <td>Instant-Gaming</td>\n",
       "    </tr>\n",
       "    <tr>\n",
       "      <th>2</th>\n",
       "      <td>Warhammer 40,000: Space Marine 2 - Ultra Edition</td>\n",
       "      <td>$63.05</td>\n",
       "      <td>https://www.instant-gaming.com/es/16908-compra...</td>\n",
       "      <td>https://gaming-cdn.com/images/products/16908/3...</td>\n",
       "      <td>Instant-Gaming</td>\n",
       "    </tr>\n",
       "    <tr>\n",
       "      <th>3</th>\n",
       "      <td>Warhammer 40,000: Space Marine 2 - Gold Edition</td>\n",
       "      <td>$56.69</td>\n",
       "      <td>https://www.instant-gaming.com/es/16909-compra...</td>\n",
       "      <td>https://gaming-cdn.com/images/products/16909/3...</td>\n",
       "      <td>Instant-Gaming</td>\n",
       "    </tr>\n",
       "    <tr>\n",
       "      <th>4</th>\n",
       "      <td>Warhammer 40,000: Space Marine 2 - Season Pass</td>\n",
       "      <td>$31.07</td>\n",
       "      <td>https://www.instant-gaming.com/es/17572-compra...</td>\n",
       "      <td>https://gaming-cdn.com/images/products/17572/3...</td>\n",
       "      <td>Instant-Gaming</td>\n",
       "    </tr>\n",
       "  </tbody>\n",
       "</table>\n",
       "</div>"
      ],
      "text/plain": [
       "                                              title   price  \\\n",
       "0                   Warhammer 40,000: Mechanicus II           \n",
       "1                  Warhammer 40,000: Space Marine 2  $39.36   \n",
       "2  Warhammer 40,000: Space Marine 2 - Ultra Edition  $63.05   \n",
       "3   Warhammer 40,000: Space Marine 2 - Gold Edition  $56.69   \n",
       "4    Warhammer 40,000: Space Marine 2 - Season Pass  $31.07   \n",
       "\n",
       "                                                link  \\\n",
       "0  https://www.instant-gaming.com/es/16897-compra...   \n",
       "1  https://www.instant-gaming.com/es/10140-compra...   \n",
       "2  https://www.instant-gaming.com/es/16908-compra...   \n",
       "3  https://www.instant-gaming.com/es/16909-compra...   \n",
       "4  https://www.instant-gaming.com/es/17572-compra...   \n",
       "\n",
       "                                               image          vendor  \n",
       "0  https://gaming-cdn.com/images/products/16897/3...  Instant-Gaming  \n",
       "1  https://gaming-cdn.com/images/products/10140/3...  Instant-Gaming  \n",
       "2  https://gaming-cdn.com/images/products/16908/3...  Instant-Gaming  \n",
       "3  https://gaming-cdn.com/images/products/16909/3...  Instant-Gaming  \n",
       "4  https://gaming-cdn.com/images/products/17572/3...  Instant-Gaming  "
      ]
     },
     "execution_count": 217,
     "metadata": {},
     "output_type": "execute_result"
    }
   ],
   "source": [
    "df_instant_gaming.head()"
   ]
  },
  {
   "cell_type": "markdown",
   "metadata": {},
   "source": [
    "## EPIC GAMES"
   ]
  },
  {
   "cell_type": "code",
   "execution_count": 218,
   "metadata": {},
   "outputs": [],
   "source": [
    "epic_games_url = f'https://epic-games-store.p.rapidapi.com/search/{game_title}/page/1/country/{currency_dict_steam[currency]}/locale/us'\n",
    "epic_games_headers = {\n",
    "\t\"x-rapidapi-key\": \"c6a5a891ecmsh03d9ec66402dd34p18a3c6jsnbe65087e49e4\",\n",
    "\t\"x-rapidapi-host\": \"epic-games-store.p.rapidapi.com\"\n",
    "}"
   ]
  },
  {
   "cell_type": "code",
   "execution_count": 219,
   "metadata": {},
   "outputs": [],
   "source": [
    "epic_games_object = re.get(url=epic_games_url, headers=epic_games_headers)"
   ]
  },
  {
   "cell_type": "code",
   "execution_count": 220,
   "metadata": {},
   "outputs": [
    {
     "data": {
      "text/plain": [
       "<Response [200]>"
      ]
     },
     "execution_count": 220,
     "metadata": {},
     "output_type": "execute_result"
    }
   ],
   "source": [
    "epic_games_object"
   ]
  },
  {
   "cell_type": "code",
   "execution_count": 221,
   "metadata": {},
   "outputs": [],
   "source": [
    "# Get titles, prices, links and images\n",
    "titles = []\n",
    "prices = []\n",
    "links =  []\n",
    "images = []\n",
    "for product in epic_games_object.json()['Catalog']['searchStore']['elements']:\n",
    "    titles.append(product['title']) \n",
    "    prices.append(product['price']['totalPrice']['discountPrice'] / 100)\n",
    "    term = product['title'].replace(' ', '+')\n",
    "    links.append(f'https://store.epicgames.com/en-US/browse?q={term}&sortBy=relevancy&sortDir=DESC&count=40')\n",
    "    images.append('Not available')\n"
   ]
  },
  {
   "cell_type": "code",
   "execution_count": 222,
   "metadata": {},
   "outputs": [],
   "source": [
    "data  = {\n",
    "    'title': titles,\n",
    "    'price': prices,\n",
    "    'link': links,\n",
    "    'image': images\n",
    "}"
   ]
  },
  {
   "cell_type": "code",
   "execution_count": 223,
   "metadata": {},
   "outputs": [],
   "source": [
    "df_epic_games = pd.DataFrame(data)"
   ]
  },
  {
   "cell_type": "code",
   "execution_count": 224,
   "metadata": {},
   "outputs": [],
   "source": [
    "df_epic_games['vendor'] = 'Epic Games'"
   ]
  },
  {
   "cell_type": "code",
   "execution_count": 225,
   "metadata": {},
   "outputs": [
    {
     "data": {
      "text/html": [
       "<div>\n",
       "<style scoped>\n",
       "    .dataframe tbody tr th:only-of-type {\n",
       "        vertical-align: middle;\n",
       "    }\n",
       "\n",
       "    .dataframe tbody tr th {\n",
       "        vertical-align: top;\n",
       "    }\n",
       "\n",
       "    .dataframe thead th {\n",
       "        text-align: right;\n",
       "    }\n",
       "</style>\n",
       "<table border=\"1\" class=\"dataframe\">\n",
       "  <thead>\n",
       "    <tr style=\"text-align: right;\">\n",
       "      <th></th>\n",
       "      <th>title</th>\n",
       "      <th>price</th>\n",
       "      <th>link</th>\n",
       "      <th>image</th>\n",
       "      <th>vendor</th>\n",
       "    </tr>\n",
       "  </thead>\n",
       "  <tbody>\n",
       "    <tr>\n",
       "      <th>0</th>\n",
       "      <td>Warhammer 40,000: Rogue Trader</td>\n",
       "      <td>49.99</td>\n",
       "      <td>https://store.epicgames.com/en-US/browse?q=War...</td>\n",
       "      <td>Not available</td>\n",
       "      <td>Epic Games</td>\n",
       "    </tr>\n",
       "    <tr>\n",
       "      <th>1</th>\n",
       "      <td>Warhammer 40,000: Gladius - Relics of War</td>\n",
       "      <td>3.99</td>\n",
       "      <td>https://store.epicgames.com/en-US/browse?q=War...</td>\n",
       "      <td>Not available</td>\n",
       "      <td>Epic Games</td>\n",
       "    </tr>\n",
       "    <tr>\n",
       "      <th>2</th>\n",
       "      <td>Total War: WARHAMMER III - Forge of the Chaos ...</td>\n",
       "      <td>24.99</td>\n",
       "      <td>https://store.epicgames.com/en-US/browse?q=Tot...</td>\n",
       "      <td>Not available</td>\n",
       "      <td>Epic Games</td>\n",
       "    </tr>\n",
       "    <tr>\n",
       "      <th>3</th>\n",
       "      <td>Warhammer 40,000: Battlesector</td>\n",
       "      <td>19.99</td>\n",
       "      <td>https://store.epicgames.com/en-US/browse?q=War...</td>\n",
       "      <td>Not available</td>\n",
       "      <td>Epic Games</td>\n",
       "    </tr>\n",
       "    <tr>\n",
       "      <th>4</th>\n",
       "      <td>Warhammer 40,000: Boltgun</td>\n",
       "      <td>21.99</td>\n",
       "      <td>https://store.epicgames.com/en-US/browse?q=War...</td>\n",
       "      <td>Not available</td>\n",
       "      <td>Epic Games</td>\n",
       "    </tr>\n",
       "  </tbody>\n",
       "</table>\n",
       "</div>"
      ],
      "text/plain": [
       "                                               title  price  \\\n",
       "0                     Warhammer 40,000: Rogue Trader  49.99   \n",
       "1          Warhammer 40,000: Gladius - Relics of War   3.99   \n",
       "2  Total War: WARHAMMER III - Forge of the Chaos ...  24.99   \n",
       "3                     Warhammer 40,000: Battlesector  19.99   \n",
       "4                          Warhammer 40,000: Boltgun  21.99   \n",
       "\n",
       "                                                link          image  \\\n",
       "0  https://store.epicgames.com/en-US/browse?q=War...  Not available   \n",
       "1  https://store.epicgames.com/en-US/browse?q=War...  Not available   \n",
       "2  https://store.epicgames.com/en-US/browse?q=Tot...  Not available   \n",
       "3  https://store.epicgames.com/en-US/browse?q=War...  Not available   \n",
       "4  https://store.epicgames.com/en-US/browse?q=War...  Not available   \n",
       "\n",
       "       vendor  \n",
       "0  Epic Games  \n",
       "1  Epic Games  \n",
       "2  Epic Games  \n",
       "3  Epic Games  \n",
       "4  Epic Games  "
      ]
     },
     "execution_count": 225,
     "metadata": {},
     "output_type": "execute_result"
    }
   ],
   "source": [
    "df_epic_games.head()"
   ]
  },
  {
   "cell_type": "markdown",
   "metadata": {},
   "source": [
    "# BUILD THE FINAL DATAFRAME"
   ]
  },
  {
   "cell_type": "code",
   "execution_count": 226,
   "metadata": {},
   "outputs": [],
   "source": [
    "df_final = pd.concat([df_steam, df_gog, df_cdkeys, df_instant_gaming, df_epic_games]).reset_index(drop=True)"
   ]
  },
  {
   "cell_type": "code",
   "execution_count": 227,
   "metadata": {},
   "outputs": [
    {
     "data": {
      "text/html": [
       "<div>\n",
       "<style scoped>\n",
       "    .dataframe tbody tr th:only-of-type {\n",
       "        vertical-align: middle;\n",
       "    }\n",
       "\n",
       "    .dataframe tbody tr th {\n",
       "        vertical-align: top;\n",
       "    }\n",
       "\n",
       "    .dataframe thead th {\n",
       "        text-align: right;\n",
       "    }\n",
       "</style>\n",
       "<table border=\"1\" class=\"dataframe\">\n",
       "  <thead>\n",
       "    <tr style=\"text-align: right;\">\n",
       "      <th></th>\n",
       "      <th>title</th>\n",
       "      <th>price</th>\n",
       "      <th>link</th>\n",
       "      <th>image</th>\n",
       "      <th>vendor</th>\n",
       "    </tr>\n",
       "  </thead>\n",
       "  <tbody>\n",
       "    <tr>\n",
       "      <th>0</th>\n",
       "      <td>Warhammer 40,000: Darktide</td>\n",
       "      <td>19.99</td>\n",
       "      <td>https://store.steampowered.com/app/1361210/War...</td>\n",
       "      <td>https://shared.cloudflare.steamstatic.com/stor...</td>\n",
       "      <td>Steam</td>\n",
       "    </tr>\n",
       "    <tr>\n",
       "      <th>1</th>\n",
       "      <td>Total War: WARHAMMER III</td>\n",
       "      <td>59.99</td>\n",
       "      <td>https://store.steampowered.com/app/1142710/Tot...</td>\n",
       "      <td>https://shared.cloudflare.steamstatic.com/stor...</td>\n",
       "      <td>Steam</td>\n",
       "    </tr>\n",
       "    <tr>\n",
       "      <th>2</th>\n",
       "      <td>Warhammer 40,000: Space Marine 2</td>\n",
       "      <td>59.99</td>\n",
       "      <td>https://store.steampowered.com/app/2183900/War...</td>\n",
       "      <td>https://shared.cloudflare.steamstatic.com/stor...</td>\n",
       "      <td>Steam</td>\n",
       "    </tr>\n",
       "    <tr>\n",
       "      <th>3</th>\n",
       "      <td>Warhammer 40,000: Rogue Trader</td>\n",
       "      <td>49.99</td>\n",
       "      <td>https://store.steampowered.com/app/2186680/War...</td>\n",
       "      <td>https://shared.cloudflare.steamstatic.com/stor...</td>\n",
       "      <td>Steam</td>\n",
       "    </tr>\n",
       "    <tr>\n",
       "      <th>4</th>\n",
       "      <td>Total War: WARHAMMER II</td>\n",
       "      <td>59.99</td>\n",
       "      <td>https://store.steampowered.com/app/594570/Tota...</td>\n",
       "      <td>https://shared.cloudflare.steamstatic.com/stor...</td>\n",
       "      <td>Steam</td>\n",
       "    </tr>\n",
       "    <tr>\n",
       "      <th>...</th>\n",
       "      <td>...</td>\n",
       "      <td>...</td>\n",
       "      <td>...</td>\n",
       "      <td>...</td>\n",
       "      <td>...</td>\n",
       "    </tr>\n",
       "    <tr>\n",
       "      <th>217</th>\n",
       "      <td>Total War: WARHAMMER III - Shadows of Change</td>\n",
       "      <td>24.99</td>\n",
       "      <td>https://store.epicgames.com/en-US/browse?q=Tot...</td>\n",
       "      <td>Not available</td>\n",
       "      <td>Epic Games</td>\n",
       "    </tr>\n",
       "    <tr>\n",
       "      <th>218</th>\n",
       "      <td>Warhammer 40,000: Boltgun - Forges of Corrupti...</td>\n",
       "      <td>5.99</td>\n",
       "      <td>https://store.epicgames.com/en-US/browse?q=War...</td>\n",
       "      <td>Not available</td>\n",
       "      <td>Epic Games</td>\n",
       "    </tr>\n",
       "    <tr>\n",
       "      <th>219</th>\n",
       "      <td>Total War: WARHAMMER - Grombrindal The White D...</td>\n",
       "      <td>0.0</td>\n",
       "      <td>https://store.epicgames.com/en-US/browse?q=Tot...</td>\n",
       "      <td>Not available</td>\n",
       "      <td>Epic Games</td>\n",
       "    </tr>\n",
       "    <tr>\n",
       "      <th>220</th>\n",
       "      <td>Warhammer Age of Sigmar: Storm Ground</td>\n",
       "      <td>19.99</td>\n",
       "      <td>https://store.epicgames.com/en-US/browse?q=War...</td>\n",
       "      <td>Not available</td>\n",
       "      <td>Epic Games</td>\n",
       "    </tr>\n",
       "    <tr>\n",
       "      <th>221</th>\n",
       "      <td>Total War: WARHAMMER III - Gorbad – Omens of D...</td>\n",
       "      <td>8.99</td>\n",
       "      <td>https://store.epicgames.com/en-US/browse?q=Tot...</td>\n",
       "      <td>Not available</td>\n",
       "      <td>Epic Games</td>\n",
       "    </tr>\n",
       "  </tbody>\n",
       "</table>\n",
       "<p>222 rows × 5 columns</p>\n",
       "</div>"
      ],
      "text/plain": [
       "                                                 title  price  \\\n",
       "0                           Warhammer 40,000: Darktide  19.99   \n",
       "1                             Total War: WARHAMMER III  59.99   \n",
       "2                     Warhammer 40,000: Space Marine 2  59.99   \n",
       "3                       Warhammer 40,000: Rogue Trader  49.99   \n",
       "4                              Total War: WARHAMMER II  59.99   \n",
       "..                                                 ...    ...   \n",
       "217       Total War: WARHAMMER III - Shadows of Change  24.99   \n",
       "218  Warhammer 40,000: Boltgun - Forges of Corrupti...   5.99   \n",
       "219  Total War: WARHAMMER - Grombrindal The White D...    0.0   \n",
       "220              Warhammer Age of Sigmar: Storm Ground  19.99   \n",
       "221  Total War: WARHAMMER III - Gorbad – Omens of D...   8.99   \n",
       "\n",
       "                                                  link  \\\n",
       "0    https://store.steampowered.com/app/1361210/War...   \n",
       "1    https://store.steampowered.com/app/1142710/Tot...   \n",
       "2    https://store.steampowered.com/app/2183900/War...   \n",
       "3    https://store.steampowered.com/app/2186680/War...   \n",
       "4    https://store.steampowered.com/app/594570/Tota...   \n",
       "..                                                 ...   \n",
       "217  https://store.epicgames.com/en-US/browse?q=Tot...   \n",
       "218  https://store.epicgames.com/en-US/browse?q=War...   \n",
       "219  https://store.epicgames.com/en-US/browse?q=Tot...   \n",
       "220  https://store.epicgames.com/en-US/browse?q=War...   \n",
       "221  https://store.epicgames.com/en-US/browse?q=Tot...   \n",
       "\n",
       "                                                 image      vendor  \n",
       "0    https://shared.cloudflare.steamstatic.com/stor...       Steam  \n",
       "1    https://shared.cloudflare.steamstatic.com/stor...       Steam  \n",
       "2    https://shared.cloudflare.steamstatic.com/stor...       Steam  \n",
       "3    https://shared.cloudflare.steamstatic.com/stor...       Steam  \n",
       "4    https://shared.cloudflare.steamstatic.com/stor...       Steam  \n",
       "..                                                 ...         ...  \n",
       "217                                      Not available  Epic Games  \n",
       "218                                      Not available  Epic Games  \n",
       "219                                      Not available  Epic Games  \n",
       "220                                      Not available  Epic Games  \n",
       "221                                      Not available  Epic Games  \n",
       "\n",
       "[222 rows x 5 columns]"
      ]
     },
     "execution_count": 227,
     "metadata": {},
     "output_type": "execute_result"
    }
   ],
   "source": [
    "df_final"
   ]
  },
  {
   "cell_type": "code",
   "execution_count": 228,
   "metadata": {},
   "outputs": [],
   "source": [
    "df_final['price'] = pd.to_numeric(df_final['price'].astype('str').str.replace('$','').replace('Free', '').fillna(0))"
   ]
  },
  {
   "cell_type": "code",
   "execution_count": 229,
   "metadata": {},
   "outputs": [
    {
     "data": {
      "text/html": [
       "<div>\n",
       "<style scoped>\n",
       "    .dataframe tbody tr th:only-of-type {\n",
       "        vertical-align: middle;\n",
       "    }\n",
       "\n",
       "    .dataframe tbody tr th {\n",
       "        vertical-align: top;\n",
       "    }\n",
       "\n",
       "    .dataframe thead th {\n",
       "        text-align: right;\n",
       "    }\n",
       "</style>\n",
       "<table border=\"1\" class=\"dataframe\">\n",
       "  <thead>\n",
       "    <tr style=\"text-align: right;\">\n",
       "      <th></th>\n",
       "      <th>title</th>\n",
       "      <th>price</th>\n",
       "      <th>link</th>\n",
       "      <th>image</th>\n",
       "      <th>vendor</th>\n",
       "    </tr>\n",
       "  </thead>\n",
       "  <tbody>\n",
       "    <tr>\n",
       "      <th>219</th>\n",
       "      <td>Total War: WARHAMMER - Grombrindal The White D...</td>\n",
       "      <td>0.0</td>\n",
       "      <td>https://store.epicgames.com/en-US/browse?q=Tot...</td>\n",
       "      <td>Not available</td>\n",
       "      <td>Epic Games</td>\n",
       "    </tr>\n",
       "    <tr>\n",
       "      <th>206</th>\n",
       "      <td>Total War: WARHAMMER - Assembly Kit</td>\n",
       "      <td>0.0</td>\n",
       "      <td>https://store.epicgames.com/en-US/browse?q=Tot...</td>\n",
       "      <td>Not available</td>\n",
       "      <td>Epic Games</td>\n",
       "    </tr>\n",
       "    <tr>\n",
       "      <th>203</th>\n",
       "      <td>Total War: WARHAMMER II - Mortal Empires</td>\n",
       "      <td>0.0</td>\n",
       "      <td>https://store.epicgames.com/en-US/browse?q=Tot...</td>\n",
       "      <td>Not available</td>\n",
       "      <td>Epic Games</td>\n",
       "    </tr>\n",
       "    <tr>\n",
       "      <th>210</th>\n",
       "      <td>Total War: WARHAMMER II – Assembly Kit</td>\n",
       "      <td>0.0</td>\n",
       "      <td>https://store.epicgames.com/en-US/browse?q=Tot...</td>\n",
       "      <td>Not available</td>\n",
       "      <td>Epic Games</td>\n",
       "    </tr>\n",
       "    <tr>\n",
       "      <th>213</th>\n",
       "      <td>Total War: WARHAMMER II - Steps of Isha</td>\n",
       "      <td>0.0</td>\n",
       "      <td>https://store.epicgames.com/en-US/browse?q=Tot...</td>\n",
       "      <td>Not available</td>\n",
       "      <td>Epic Games</td>\n",
       "    </tr>\n",
       "    <tr>\n",
       "      <th>...</th>\n",
       "      <td>...</td>\n",
       "      <td>...</td>\n",
       "      <td>...</td>\n",
       "      <td>...</td>\n",
       "      <td>...</td>\n",
       "    </tr>\n",
       "    <tr>\n",
       "      <th>43</th>\n",
       "      <td>Warhammer The Horus Heresy: Legions</td>\n",
       "      <td>NaN</td>\n",
       "      <td>https://store.steampowered.com/app/1031140/War...</td>\n",
       "      <td>https://shared.cloudflare.steamstatic.com/stor...</td>\n",
       "      <td>Steam</td>\n",
       "    </tr>\n",
       "    <tr>\n",
       "      <th>122</th>\n",
       "      <td>Warhammer 40,000: Mechanicus II</td>\n",
       "      <td>NaN</td>\n",
       "      <td>https://www.instant-gaming.com/es/16897-compra...</td>\n",
       "      <td>https://gaming-cdn.com/images/products/16897/3...</td>\n",
       "      <td>Instant-Gaming</td>\n",
       "    </tr>\n",
       "    <tr>\n",
       "      <th>134</th>\n",
       "      <td>Warhammer: Vermintide 2 - Collector's Edition</td>\n",
       "      <td>NaN</td>\n",
       "      <td>https://www.instant-gaming.com/es/2754-comprar...</td>\n",
       "      <td>https://gaming-cdn.com/images/products/2754/38...</td>\n",
       "      <td>Instant-Gaming</td>\n",
       "    </tr>\n",
       "    <tr>\n",
       "      <th>169</th>\n",
       "      <td>Warhammer 40,000: Gladius - Relics of War</td>\n",
       "      <td>NaN</td>\n",
       "      <td>https://www.instant-gaming.com/es/5117-comprar...</td>\n",
       "      <td>https://gaming-cdn.com/images/products/5117/38...</td>\n",
       "      <td>Instant-Gaming</td>\n",
       "    </tr>\n",
       "    <tr>\n",
       "      <th>173</th>\n",
       "      <td>Warhammer 40,000: Shootas, Blood &amp; Teef</td>\n",
       "      <td>NaN</td>\n",
       "      <td>https://www.instant-gaming.com/es/12323-compra...</td>\n",
       "      <td>https://gaming-cdn.com/images/products/12323/3...</td>\n",
       "      <td>Instant-Gaming</td>\n",
       "    </tr>\n",
       "  </tbody>\n",
       "</table>\n",
       "<p>222 rows × 5 columns</p>\n",
       "</div>"
      ],
      "text/plain": [
       "                                                 title  price  \\\n",
       "219  Total War: WARHAMMER - Grombrindal The White D...    0.0   \n",
       "206                Total War: WARHAMMER - Assembly Kit    0.0   \n",
       "203           Total War: WARHAMMER II - Mortal Empires    0.0   \n",
       "210             Total War: WARHAMMER II – Assembly Kit    0.0   \n",
       "213            Total War: WARHAMMER II - Steps of Isha    0.0   \n",
       "..                                                 ...    ...   \n",
       "43                 Warhammer The Horus Heresy: Legions    NaN   \n",
       "122                    Warhammer 40,000: Mechanicus II    NaN   \n",
       "134      Warhammer: Vermintide 2 - Collector's Edition    NaN   \n",
       "169          Warhammer 40,000: Gladius - Relics of War    NaN   \n",
       "173            Warhammer 40,000: Shootas, Blood & Teef    NaN   \n",
       "\n",
       "                                                  link  \\\n",
       "219  https://store.epicgames.com/en-US/browse?q=Tot...   \n",
       "206  https://store.epicgames.com/en-US/browse?q=Tot...   \n",
       "203  https://store.epicgames.com/en-US/browse?q=Tot...   \n",
       "210  https://store.epicgames.com/en-US/browse?q=Tot...   \n",
       "213  https://store.epicgames.com/en-US/browse?q=Tot...   \n",
       "..                                                 ...   \n",
       "43   https://store.steampowered.com/app/1031140/War...   \n",
       "122  https://www.instant-gaming.com/es/16897-compra...   \n",
       "134  https://www.instant-gaming.com/es/2754-comprar...   \n",
       "169  https://www.instant-gaming.com/es/5117-comprar...   \n",
       "173  https://www.instant-gaming.com/es/12323-compra...   \n",
       "\n",
       "                                                 image          vendor  \n",
       "219                                      Not available      Epic Games  \n",
       "206                                      Not available      Epic Games  \n",
       "203                                      Not available      Epic Games  \n",
       "210                                      Not available      Epic Games  \n",
       "213                                      Not available      Epic Games  \n",
       "..                                                 ...             ...  \n",
       "43   https://shared.cloudflare.steamstatic.com/stor...           Steam  \n",
       "122  https://gaming-cdn.com/images/products/16897/3...  Instant-Gaming  \n",
       "134  https://gaming-cdn.com/images/products/2754/38...  Instant-Gaming  \n",
       "169  https://gaming-cdn.com/images/products/5117/38...  Instant-Gaming  \n",
       "173  https://gaming-cdn.com/images/products/12323/3...  Instant-Gaming  \n",
       "\n",
       "[222 rows x 5 columns]"
      ]
     },
     "execution_count": 229,
     "metadata": {},
     "output_type": "execute_result"
    }
   ],
   "source": [
    "df_final.sort_values('price')"
   ]
  },
  {
   "cell_type": "code",
   "execution_count": 64,
   "metadata": {},
   "outputs": [],
   "source": [
    "df_final.to_csv(\"sample_data.csv\")"
   ]
  },
  {
   "cell_type": "markdown",
   "metadata": {},
   "source": [
    "End of the line"
   ]
  }
 ],
 "metadata": {
  "kernelspec": {
   "display_name": ".venv",
   "language": "python",
   "name": "python3"
  },
  "language_info": {
   "codemirror_mode": {
    "name": "ipython",
    "version": 3
   },
   "file_extension": ".py",
   "mimetype": "text/x-python",
   "name": "python",
   "nbconvert_exporter": "python",
   "pygments_lexer": "ipython3",
   "version": "3.9.12"
  }
 },
 "nbformat": 4,
 "nbformat_minor": 2
}
